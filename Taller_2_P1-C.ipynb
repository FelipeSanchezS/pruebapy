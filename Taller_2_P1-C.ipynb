{
 "cells": [
  {
   "cell_type": "code",
   "execution_count": 1,
   "id": "21316f57",
   "metadata": {},
   "outputs": [],
   "source": [
    "# EDO. Método de Heun de un solo corrector\n",
    "# estima la solucion para muestras espaciadas h en eje x\n",
    "# valores iniciales x0,y0\n",
    "# entrega arreglo [[x,y]]\n",
    "import numpy as np\n",
    "import matplotlib.pyplot as plt\n",
    "\n",
    "def heun2(dydx,x0,y0,h,muestras):\n",
    "    tamano   = muestras + 1\n",
    "    estimado = np.zeros(shape=(tamano,2),dtype=float)\n",
    "    # incluye el punto [x0,y0]\n",
    "    estimado[0] = [x0,y0]\n",
    "    xi = x0\n",
    "    yi = y0\n",
    "    for i in range(1,tamano,1):\n",
    "        K1 = h * dydx(xi,yi)\n",
    "        K2 = h * dydx(xi+h, yi + K1)\n",
    "\n",
    "        yi = yi + (K1+K2)/2\n",
    "        xi = xi + h\n",
    "        \n",
    "        estimado[i] = [xi,yi]\n",
    "    return(estimado)"
   ]
  },
  {
   "cell_type": "code",
   "execution_count": 2,
   "id": "f0465238",
   "metadata": {},
   "outputs": [
    {
     "data": {
      "text/plain": [
       "array([[0.        , 1.        ],\n",
       "       [0.25      , 1.4045085 ],\n",
       "       [0.5       , 2.23072965],\n",
       "       [0.75      , 3.7060891 ],\n",
       "       [1.        , 6.15178498]])"
      ]
     },
     "execution_count": 2,
     "metadata": {},
     "output_type": "execute_result"
    }
   ],
   "source": [
    "def dydx(x, y):\n",
    "    return (1 + 4*x) * np.sqrt(y)\n",
    "heun2(dydx,0,1,0.25,4)"
   ]
  },
  {
   "cell_type": "code",
   "execution_count": null,
   "id": "36a90355",
   "metadata": {},
   "outputs": [],
   "source": []
  }
 ],
 "metadata": {
  "kernelspec": {
   "display_name": "Python 3 (ipykernel)",
   "language": "python",
   "name": "python3"
  },
  "language_info": {
   "codemirror_mode": {
    "name": "ipython",
    "version": 3
   },
   "file_extension": ".py",
   "mimetype": "text/x-python",
   "name": "python",
   "nbconvert_exporter": "python",
   "pygments_lexer": "ipython3",
   "version": "3.11.3"
  }
 },
 "nbformat": 4,
 "nbformat_minor": 5
}
